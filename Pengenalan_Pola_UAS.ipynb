{
  "nbformat": 4,
  "nbformat_minor": 0,
  "metadata": {
    "colab": {
      "name": "Pengenalan_Pola_UAS.ipynb",
      "provenance": [],
      "authorship_tag": "ABX9TyPyWiRxproIB4b1RUHrc6Qv",
      "include_colab_link": true
    },
    "kernelspec": {
      "name": "python3",
      "display_name": "Python 3"
    }
  },
  "cells": [
    {
      "cell_type": "markdown",
      "metadata": {
        "id": "view-in-github",
        "colab_type": "text"
      },
      "source": [
        "<a href=\"https://colab.research.google.com/github/nyoman123/Pembelajaran-Mesin/blob/master/Pengenalan_Pola_UAS.ipynb\" target=\"_parent\"><img src=\"https://colab.research.google.com/assets/colab-badge.svg\" alt=\"Open In Colab\"/></a>"
      ]
    },
    {
      "cell_type": "code",
      "metadata": {
        "id": "spzD2E5iJuAQ",
        "colab": {
          "base_uri": "https://localhost:8080/"
        },
        "outputId": "24af9680-886c-49b3-e9f5-3b66ea4a6c6f"
      },
      "source": [
        "from google.colab import drive\n",
        "drive.mount('/content/drive')\n"
      ],
      "execution_count": 1,
      "outputs": [
        {
          "output_type": "stream",
          "text": [
            "Mounted at /content/drive\n"
          ],
          "name": "stdout"
        }
      ]
    },
    {
      "cell_type": "code",
      "metadata": {
        "id": "ui-ZiBbpKU_-",
        "colab": {
          "base_uri": "https://localhost:8080/"
        },
        "outputId": "94886113-7828-4721-990b-4e3fe55020f0"
      },
      "source": [
        "%cd /content/drive/My Drive/Colab Notebooks\n"
      ],
      "execution_count": 2,
      "outputs": [
        {
          "output_type": "stream",
          "text": [
            "/content/drive/My Drive/Colab Notebooks\n"
          ],
          "name": "stdout"
        }
      ]
    },
    {
      "cell_type": "code",
      "metadata": {
        "id": "80CJXwL7KcZj",
        "colab": {
          "base_uri": "https://localhost:8080/"
        },
        "outputId": "53536cfb-29e3-41d7-bdb8-2f34b674f850"
      },
      "source": [
        "ls\n"
      ],
      "execution_count": 3,
      "outputs": [
        {
          "output_type": "stream",
          "text": [
            "DTL.ipynb  \u001b[0m\u001b[01;34mpola\u001b[0m/  \u001b[01;34mPR3\u001b[0m/  Tubes-Alpro.ipynb\n"
          ],
          "name": "stdout"
        }
      ]
    },
    {
      "cell_type": "code",
      "metadata": {
        "id": "dIt880lhKe30",
        "colab": {
          "base_uri": "https://localhost:8080/"
        },
        "outputId": "00e082e7-55cc-40cd-f907-32c90d539a0d"
      },
      "source": [
        "%cd /content/drive/My Drive/Colab Notebooks/pola"
      ],
      "execution_count": 4,
      "outputs": [
        {
          "output_type": "stream",
          "text": [
            "/content/drive/My Drive/Colab Notebooks/pola\n"
          ],
          "name": "stdout"
        }
      ]
    },
    {
      "cell_type": "code",
      "metadata": {
        "id": "0_Hp9r9FKi0I",
        "colab": {
          "base_uri": "https://localhost:8080/"
        },
        "outputId": "5dd9e3cf-ea6e-49d1-8c79-a6541912a315"
      },
      "source": [
        "ls"
      ],
      "execution_count": 5,
      "outputs": [
        {
          "output_type": "stream",
          "text": [
            "dataset.h5  labels.txt  Pengenalan_Pola_UAS.ipynb  test.csv  train.csv\n"
          ],
          "name": "stdout"
        }
      ]
    },
    {
      "cell_type": "code",
      "metadata": {
        "id": "1vbto3F1rzUh"
      },
      "source": [
        "from sklearn import tree\r\n",
        "from sklearn.ensemble import RandomForestClassifier\r\n",
        "from sklearn.multioutput import MultiOutputClassifier\r\n",
        "import numpy as np\r\n",
        "import pandas as pd\r\n",
        "\r\n",
        "import matplotlib.pyplot as plt\r\n",
        "import cv2\r\n",
        "import xgboost as xgb"
      ],
      "execution_count": 10,
      "outputs": []
    },
    {
      "cell_type": "code",
      "metadata": {
        "id": "SLLwfHL4PjdQ"
      },
      "source": [
        "train_data = pd.read_csv('/content/drive/My Drive/Colab Notebooks/pola/train.csv')"
      ],
      "execution_count": 13,
      "outputs": []
    },
    {
      "cell_type": "code",
      "metadata": {
        "id": "dQKSnlChQ0kl"
      },
      "source": [
        "test_data = pd.read_csv('/content/drive/My Drive/Colab Notebooks/pola/test.csv')"
      ],
      "execution_count": 12,
      "outputs": []
    },
    {
      "cell_type": "code",
      "metadata": {
        "id": "S7tlD42CQGKi"
      },
      "source": [
        "models = {\r\n",
        "\t\"decision_tree\": DecisionTreeClassifier(n_estimators=100, max_depth=6),\r\n",
        "\t\"random_forest\": RandomForestClassifier(n_estimators=100, max_depth=6),\r\n",
        "  \"xgboost\" : xgb.XGBClassifier(objective= n_estimators=100, max_depth=6)\r\n",
        "}"
      ],
      "execution_count": null,
      "outputs": []
    }
  ]
}