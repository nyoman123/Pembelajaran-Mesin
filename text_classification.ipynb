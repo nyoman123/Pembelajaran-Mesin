{
  "nbformat": 4,
  "nbformat_minor": 0,
  "metadata": {
    "kernelspec": {
      "display_name": "Python 3.7.6 64-bit ('compvis': conda)",
      "language": "python",
      "name": "python37664bitcompvisconda2d3448796e3e49d498304dbbfe353f71"
    },
    "language_info": {
      "codemirror_mode": {
        "name": "ipython",
        "version": 3
      },
      "file_extension": ".py",
      "mimetype": "text/x-python",
      "name": "python",
      "nbconvert_exporter": "python",
      "pygments_lexer": "ipython3",
      "version": "3.7.6"
    },
    "colab": {
      "name": "text classification.ipynb",
      "provenance": [],
      "collapsed_sections": [],
      "include_colab_link": true
    }
  },
  "cells": [
    {
      "cell_type": "markdown",
      "metadata": {
        "id": "view-in-github",
        "colab_type": "text"
      },
      "source": [
        "<a href=\"https://colab.research.google.com/github/nyoman123/Pembelajaran-Mesin/blob/master/text_classification.ipynb\" target=\"_parent\"><img src=\"https://colab.research.google.com/assets/colab-badge.svg\" alt=\"Open In Colab\"/></a>"
      ]
    },
    {
      "cell_type": "code",
      "metadata": {
        "id": "zW6mj32nvMXo",
        "colab_type": "code",
        "colab": {
          "base_uri": "https://localhost:8080/",
          "height": 34
        },
        "outputId": "fec0a231-d59b-4ba4-f7a8-8a77a64a99e9"
      },
      "source": [
        "from google.colab import drive\n",
        "drive.mount('/content/drive')"
      ],
      "execution_count": 153,
      "outputs": [
        {
          "output_type": "stream",
          "text": [
            "Drive already mounted at /content/drive; to attempt to forcibly remount, call drive.mount(\"/content/drive\", force_remount=True).\n"
          ],
          "name": "stdout"
        }
      ]
    },
    {
      "cell_type": "code",
      "metadata": {
        "id": "p6NW3AsyvLxE",
        "colab_type": "code",
        "colab": {
          "base_uri": "https://localhost:8080/",
          "height": 34
        },
        "outputId": "4cb683e8-1242-4aed-e9dd-ff0768c43899"
      },
      "source": [
        "\n",
        "%cd /content/drive/My Drive/Colab Notebooks/PEMBELAJARAN MESIN"
      ],
      "execution_count": 154,
      "outputs": [
        {
          "output_type": "stream",
          "text": [
            "/content/drive/My Drive/Colab Notebooks/PEMBELAJARAN MESIN\n"
          ],
          "name": "stdout"
        }
      ]
    },
    {
      "cell_type": "code",
      "metadata": {
        "id": "PWCVWUALv_ba",
        "colab_type": "code",
        "colab": {
          "base_uri": "https://localhost:8080/",
          "height": 34
        },
        "outputId": "fcafef31-52e5-48ae-bafe-0f58d307ba3e"
      },
      "source": [
        "ls\n"
      ],
      "execution_count": 155,
      "outputs": [
        {
          "output_type": "stream",
          "text": [
            "\u001b[0m\u001b[01;34m'TEXT NAIVE BAYES'\u001b[0m/\n"
          ],
          "name": "stdout"
        }
      ]
    },
    {
      "cell_type": "code",
      "metadata": {
        "id": "1WhYm-tLwDpO",
        "colab_type": "code",
        "colab": {
          "base_uri": "https://localhost:8080/",
          "height": 34
        },
        "outputId": "5a1c0f03-53a6-4846-8537-05813a1f6e7f"
      },
      "source": [
        "%cd /content/drive/My Drive/Colab Notebooks/PEMBELAJARAN MESIN/TEXT NAIVE BAYES"
      ],
      "execution_count": 156,
      "outputs": [
        {
          "output_type": "stream",
          "text": [
            "/content/drive/My Drive/Colab Notebooks/PEMBELAJARAN MESIN/TEXT NAIVE BAYES\n"
          ],
          "name": "stdout"
        }
      ]
    },
    {
      "cell_type": "code",
      "metadata": {
        "id": "wNqQ98HUwKRz",
        "colab_type": "code",
        "colab": {
          "base_uri": "https://localhost:8080/",
          "height": 34
        },
        "outputId": "f3fdd367-61af-453d-e327-9acec892ed62"
      },
      "source": [
        "ls"
      ],
      "execution_count": 157,
      "outputs": [
        {
          "output_type": "stream",
          "text": [
            " data.csv  'text classification.ipynb'\n"
          ],
          "name": "stdout"
        }
      ]
    },
    {
      "cell_type": "code",
      "metadata": {
        "id": "ptBvEd0xsVDl",
        "colab_type": "code",
        "colab": {}
      },
      "source": [
        "import numpy as np\n",
        "import pandas as pd\n",
        "from collections import defaultdict"
      ],
      "execution_count": 158,
      "outputs": []
    },
    {
      "cell_type": "code",
      "metadata": {
        "id": "d4if_11osVDu",
        "colab_type": "code",
        "colab": {
          "base_uri": "https://localhost:8080/",
          "height": 359
        },
        "outputId": "76a2e880-3aed-42a4-ff76-ab28ee1bcab4"
      },
      "source": [
        "data = pd.read_csv('data.csv')\n",
        "data"
      ],
      "execution_count": 159,
      "outputs": [
        {
          "output_type": "execute_result",
          "data": {
            "text/html": [
              "<div>\n",
              "<style scoped>\n",
              "    .dataframe tbody tr th:only-of-type {\n",
              "        vertical-align: middle;\n",
              "    }\n",
              "\n",
              "    .dataframe tbody tr th {\n",
              "        vertical-align: top;\n",
              "    }\n",
              "\n",
              "    .dataframe thead th {\n",
              "        text-align: right;\n",
              "    }\n",
              "</style>\n",
              "<table border=\"1\" class=\"dataframe\">\n",
              "  <thead>\n",
              "    <tr style=\"text-align: right;\">\n",
              "      <th></th>\n",
              "      <th>No</th>\n",
              "      <th>Title of Article</th>\n",
              "      <th>Interesting</th>\n",
              "    </tr>\n",
              "  </thead>\n",
              "  <tbody>\n",
              "    <tr>\n",
              "      <th>0</th>\n",
              "      <td>1</td>\n",
              "      <td>oracle open sources java machine learning library</td>\n",
              "      <td>yes</td>\n",
              "    </tr>\n",
              "    <tr>\n",
              "      <th>1</th>\n",
              "      <td>2</td>\n",
              "      <td>the reason trump not trying save economy</td>\n",
              "      <td>no</td>\n",
              "    </tr>\n",
              "    <tr>\n",
              "      <th>2</th>\n",
              "      <td>3</td>\n",
              "      <td>it fed day time for the economy to get tuneup</td>\n",
              "      <td>no</td>\n",
              "    </tr>\n",
              "    <tr>\n",
              "      <th>3</th>\n",
              "      <td>4</td>\n",
              "      <td>auto ml bridging skill gaps with machine learning</td>\n",
              "      <td>yes</td>\n",
              "    </tr>\n",
              "    <tr>\n",
              "      <th>4</th>\n",
              "      <td>5</td>\n",
              "      <td>donald trump chance to peel off hispanic voters</td>\n",
              "      <td>no</td>\n",
              "    </tr>\n",
              "    <tr>\n",
              "      <th>5</th>\n",
              "      <td>6</td>\n",
              "      <td>definining ai machine learning deep learning m...</td>\n",
              "      <td>yes</td>\n",
              "    </tr>\n",
              "    <tr>\n",
              "      <th>6</th>\n",
              "      <td>7</td>\n",
              "      <td>ai machine learning tool can help separate cov...</td>\n",
              "      <td>yes</td>\n",
              "    </tr>\n",
              "    <tr>\n",
              "      <th>7</th>\n",
              "      <td>8</td>\n",
              "      <td>dbs taking machine learning for spin</td>\n",
              "      <td>yes</td>\n",
              "    </tr>\n",
              "    <tr>\n",
              "      <th>8</th>\n",
              "      <td>9</td>\n",
              "      <td>deepmind introduce machine learning model impr...</td>\n",
              "      <td>yes</td>\n",
              "    </tr>\n",
              "    <tr>\n",
              "      <th>9</th>\n",
              "      <td>10</td>\n",
              "      <td>we must use covid crisis rehape society economy</td>\n",
              "      <td>no</td>\n",
              "    </tr>\n",
              "  </tbody>\n",
              "</table>\n",
              "</div>"
            ],
            "text/plain": [
              "   No                                   Title of Article Interesting\n",
              "0   1  oracle open sources java machine learning library         yes\n",
              "1   2           the reason trump not trying save economy          no\n",
              "2   3      it fed day time for the economy to get tuneup          no\n",
              "3   4  auto ml bridging skill gaps with machine learning         yes\n",
              "4   5    donald trump chance to peel off hispanic voters          no\n",
              "5   6  definining ai machine learning deep learning m...         yes\n",
              "6   7  ai machine learning tool can help separate cov...         yes\n",
              "7   8               dbs taking machine learning for spin         yes\n",
              "8   9  deepmind introduce machine learning model impr...         yes\n",
              "9  10    we must use covid crisis rehape society economy          no"
            ]
          },
          "metadata": {
            "tags": []
          },
          "execution_count": 159
        }
      ]
    },
    {
      "cell_type": "code",
      "metadata": {
        "id": "sjtJHJcRsVDz",
        "colab_type": "code",
        "colab": {
          "base_uri": "https://localhost:8080/",
          "height": 255
        },
        "outputId": "f3d55977-c52f-49ee-b9cd-dec9edcca8fc"
      },
      "source": [
        "from sklearn.feature_extraction.text import CountVectorizer\n",
        "yes = [row['Title of Article'] for i, row in data.iterrows() if row['Interesting'] == 'yes']\n",
        "vec_yes = CountVectorizer()\n",
        "X_yes = vec_yes.fit_transform(yes)\n",
        "tabel_yes = pd.DataFrame(X_yes.toarray(), columns=vec_yes.get_feature_names())\n",
        "tabel_yes"
      ],
      "execution_count": 160,
      "outputs": [
        {
          "output_type": "execute_result",
          "data": {
            "text/html": [
              "<div>\n",
              "<style scoped>\n",
              "    .dataframe tbody tr th:only-of-type {\n",
              "        vertical-align: middle;\n",
              "    }\n",
              "\n",
              "    .dataframe tbody tr th {\n",
              "        vertical-align: top;\n",
              "    }\n",
              "\n",
              "    .dataframe thead th {\n",
              "        text-align: right;\n",
              "    }\n",
              "</style>\n",
              "<table border=\"1\" class=\"dataframe\">\n",
              "  <thead>\n",
              "    <tr style=\"text-align: right;\">\n",
              "      <th></th>\n",
              "      <th>ai</th>\n",
              "      <th>auto</th>\n",
              "      <th>bridging</th>\n",
              "      <th>can</th>\n",
              "      <th>claim</th>\n",
              "      <th>covid</th>\n",
              "      <th>dbs</th>\n",
              "      <th>deep</th>\n",
              "      <th>deepmind</th>\n",
              "      <th>definining</th>\n",
              "      <th>for</th>\n",
              "      <th>gaps</th>\n",
              "      <th>google</th>\n",
              "      <th>help</th>\n",
              "      <th>improve</th>\n",
              "      <th>introduce</th>\n",
              "      <th>java</th>\n",
              "      <th>learning</th>\n",
              "      <th>library</th>\n",
              "      <th>machine</th>\n",
              "      <th>maps</th>\n",
              "      <th>martech</th>\n",
              "      <th>ml</th>\n",
              "      <th>model</th>\n",
              "      <th>open</th>\n",
              "      <th>oracle</th>\n",
              "      <th>related</th>\n",
              "      <th>separate</th>\n",
              "      <th>skill</th>\n",
              "      <th>sources</th>\n",
              "      <th>spin</th>\n",
              "      <th>taking</th>\n",
              "      <th>tool</th>\n",
              "      <th>with</th>\n",
              "    </tr>\n",
              "  </thead>\n",
              "  <tbody>\n",
              "    <tr>\n",
              "      <th>0</th>\n",
              "      <td>0</td>\n",
              "      <td>0</td>\n",
              "      <td>0</td>\n",
              "      <td>0</td>\n",
              "      <td>0</td>\n",
              "      <td>0</td>\n",
              "      <td>0</td>\n",
              "      <td>0</td>\n",
              "      <td>0</td>\n",
              "      <td>0</td>\n",
              "      <td>0</td>\n",
              "      <td>0</td>\n",
              "      <td>0</td>\n",
              "      <td>0</td>\n",
              "      <td>0</td>\n",
              "      <td>0</td>\n",
              "      <td>1</td>\n",
              "      <td>1</td>\n",
              "      <td>1</td>\n",
              "      <td>1</td>\n",
              "      <td>0</td>\n",
              "      <td>0</td>\n",
              "      <td>0</td>\n",
              "      <td>0</td>\n",
              "      <td>1</td>\n",
              "      <td>1</td>\n",
              "      <td>0</td>\n",
              "      <td>0</td>\n",
              "      <td>0</td>\n",
              "      <td>1</td>\n",
              "      <td>0</td>\n",
              "      <td>0</td>\n",
              "      <td>0</td>\n",
              "      <td>0</td>\n",
              "    </tr>\n",
              "    <tr>\n",
              "      <th>1</th>\n",
              "      <td>0</td>\n",
              "      <td>1</td>\n",
              "      <td>1</td>\n",
              "      <td>0</td>\n",
              "      <td>0</td>\n",
              "      <td>0</td>\n",
              "      <td>0</td>\n",
              "      <td>0</td>\n",
              "      <td>0</td>\n",
              "      <td>0</td>\n",
              "      <td>0</td>\n",
              "      <td>1</td>\n",
              "      <td>0</td>\n",
              "      <td>0</td>\n",
              "      <td>0</td>\n",
              "      <td>0</td>\n",
              "      <td>0</td>\n",
              "      <td>1</td>\n",
              "      <td>0</td>\n",
              "      <td>1</td>\n",
              "      <td>0</td>\n",
              "      <td>0</td>\n",
              "      <td>1</td>\n",
              "      <td>0</td>\n",
              "      <td>0</td>\n",
              "      <td>0</td>\n",
              "      <td>0</td>\n",
              "      <td>0</td>\n",
              "      <td>1</td>\n",
              "      <td>0</td>\n",
              "      <td>0</td>\n",
              "      <td>0</td>\n",
              "      <td>0</td>\n",
              "      <td>1</td>\n",
              "    </tr>\n",
              "    <tr>\n",
              "      <th>2</th>\n",
              "      <td>1</td>\n",
              "      <td>0</td>\n",
              "      <td>0</td>\n",
              "      <td>0</td>\n",
              "      <td>0</td>\n",
              "      <td>0</td>\n",
              "      <td>0</td>\n",
              "      <td>1</td>\n",
              "      <td>0</td>\n",
              "      <td>1</td>\n",
              "      <td>0</td>\n",
              "      <td>0</td>\n",
              "      <td>0</td>\n",
              "      <td>0</td>\n",
              "      <td>0</td>\n",
              "      <td>0</td>\n",
              "      <td>0</td>\n",
              "      <td>2</td>\n",
              "      <td>0</td>\n",
              "      <td>1</td>\n",
              "      <td>0</td>\n",
              "      <td>1</td>\n",
              "      <td>0</td>\n",
              "      <td>0</td>\n",
              "      <td>0</td>\n",
              "      <td>0</td>\n",
              "      <td>0</td>\n",
              "      <td>0</td>\n",
              "      <td>0</td>\n",
              "      <td>0</td>\n",
              "      <td>0</td>\n",
              "      <td>0</td>\n",
              "      <td>0</td>\n",
              "      <td>0</td>\n",
              "    </tr>\n",
              "    <tr>\n",
              "      <th>3</th>\n",
              "      <td>1</td>\n",
              "      <td>0</td>\n",
              "      <td>0</td>\n",
              "      <td>1</td>\n",
              "      <td>1</td>\n",
              "      <td>1</td>\n",
              "      <td>0</td>\n",
              "      <td>0</td>\n",
              "      <td>0</td>\n",
              "      <td>0</td>\n",
              "      <td>0</td>\n",
              "      <td>0</td>\n",
              "      <td>0</td>\n",
              "      <td>1</td>\n",
              "      <td>0</td>\n",
              "      <td>0</td>\n",
              "      <td>0</td>\n",
              "      <td>1</td>\n",
              "      <td>0</td>\n",
              "      <td>1</td>\n",
              "      <td>0</td>\n",
              "      <td>0</td>\n",
              "      <td>0</td>\n",
              "      <td>0</td>\n",
              "      <td>0</td>\n",
              "      <td>0</td>\n",
              "      <td>1</td>\n",
              "      <td>1</td>\n",
              "      <td>0</td>\n",
              "      <td>0</td>\n",
              "      <td>0</td>\n",
              "      <td>0</td>\n",
              "      <td>1</td>\n",
              "      <td>0</td>\n",
              "    </tr>\n",
              "    <tr>\n",
              "      <th>4</th>\n",
              "      <td>0</td>\n",
              "      <td>0</td>\n",
              "      <td>0</td>\n",
              "      <td>0</td>\n",
              "      <td>0</td>\n",
              "      <td>0</td>\n",
              "      <td>1</td>\n",
              "      <td>0</td>\n",
              "      <td>0</td>\n",
              "      <td>0</td>\n",
              "      <td>1</td>\n",
              "      <td>0</td>\n",
              "      <td>0</td>\n",
              "      <td>0</td>\n",
              "      <td>0</td>\n",
              "      <td>0</td>\n",
              "      <td>0</td>\n",
              "      <td>1</td>\n",
              "      <td>0</td>\n",
              "      <td>1</td>\n",
              "      <td>0</td>\n",
              "      <td>0</td>\n",
              "      <td>0</td>\n",
              "      <td>0</td>\n",
              "      <td>0</td>\n",
              "      <td>0</td>\n",
              "      <td>0</td>\n",
              "      <td>0</td>\n",
              "      <td>0</td>\n",
              "      <td>0</td>\n",
              "      <td>1</td>\n",
              "      <td>1</td>\n",
              "      <td>0</td>\n",
              "      <td>0</td>\n",
              "    </tr>\n",
              "    <tr>\n",
              "      <th>5</th>\n",
              "      <td>0</td>\n",
              "      <td>0</td>\n",
              "      <td>0</td>\n",
              "      <td>0</td>\n",
              "      <td>0</td>\n",
              "      <td>0</td>\n",
              "      <td>0</td>\n",
              "      <td>0</td>\n",
              "      <td>1</td>\n",
              "      <td>0</td>\n",
              "      <td>0</td>\n",
              "      <td>0</td>\n",
              "      <td>1</td>\n",
              "      <td>0</td>\n",
              "      <td>1</td>\n",
              "      <td>1</td>\n",
              "      <td>0</td>\n",
              "      <td>1</td>\n",
              "      <td>0</td>\n",
              "      <td>1</td>\n",
              "      <td>1</td>\n",
              "      <td>0</td>\n",
              "      <td>0</td>\n",
              "      <td>1</td>\n",
              "      <td>0</td>\n",
              "      <td>0</td>\n",
              "      <td>0</td>\n",
              "      <td>0</td>\n",
              "      <td>0</td>\n",
              "      <td>0</td>\n",
              "      <td>0</td>\n",
              "      <td>0</td>\n",
              "      <td>0</td>\n",
              "      <td>0</td>\n",
              "    </tr>\n",
              "  </tbody>\n",
              "</table>\n",
              "</div>"
            ],
            "text/plain": [
              "   ai  auto  bridging  can  claim  ...  sources  spin  taking  tool  with\n",
              "0   0     0         0    0      0  ...        1     0       0     0     0\n",
              "1   0     1         1    0      0  ...        0     0       0     0     1\n",
              "2   1     0         0    0      0  ...        0     0       0     0     0\n",
              "3   1     0         0    1      1  ...        0     0       0     1     0\n",
              "4   0     0         0    0      0  ...        0     1       1     0     0\n",
              "5   0     0         0    0      0  ...        0     0       0     0     0\n",
              "\n",
              "[6 rows x 34 columns]"
            ]
          },
          "metadata": {
            "tags": []
          },
          "execution_count": 160
        }
      ]
    },
    {
      "cell_type": "code",
      "metadata": {
        "id": "ET-bA1brsVD5",
        "colab_type": "code",
        "colab": {
          "base_uri": "https://localhost:8080/",
          "height": 193
        },
        "outputId": "ef4f3b74-0789-4678-9502-10d68ca4a4bb"
      },
      "source": [
        "no = [row['Title of Article'] for i, row in data.iterrows() if row['Interesting'] == 'no']\n",
        "vec_no = CountVectorizer()\n",
        "X_no = vec_no.fit_transform(no)\n",
        "tabel_no = pd.DataFrame(X_no.toarray(), columns=vec_no.get_feature_names())\n",
        "tabel_no"
      ],
      "execution_count": 161,
      "outputs": [
        {
          "output_type": "execute_result",
          "data": {
            "text/html": [
              "<div>\n",
              "<style scoped>\n",
              "    .dataframe tbody tr th:only-of-type {\n",
              "        vertical-align: middle;\n",
              "    }\n",
              "\n",
              "    .dataframe tbody tr th {\n",
              "        vertical-align: top;\n",
              "    }\n",
              "\n",
              "    .dataframe thead th {\n",
              "        text-align: right;\n",
              "    }\n",
              "</style>\n",
              "<table border=\"1\" class=\"dataframe\">\n",
              "  <thead>\n",
              "    <tr style=\"text-align: right;\">\n",
              "      <th></th>\n",
              "      <th>chance</th>\n",
              "      <th>covid</th>\n",
              "      <th>crisis</th>\n",
              "      <th>day</th>\n",
              "      <th>donald</th>\n",
              "      <th>economy</th>\n",
              "      <th>fed</th>\n",
              "      <th>for</th>\n",
              "      <th>get</th>\n",
              "      <th>hispanic</th>\n",
              "      <th>it</th>\n",
              "      <th>must</th>\n",
              "      <th>not</th>\n",
              "      <th>off</th>\n",
              "      <th>peel</th>\n",
              "      <th>reason</th>\n",
              "      <th>rehape</th>\n",
              "      <th>save</th>\n",
              "      <th>society</th>\n",
              "      <th>the</th>\n",
              "      <th>time</th>\n",
              "      <th>to</th>\n",
              "      <th>trump</th>\n",
              "      <th>trying</th>\n",
              "      <th>tuneup</th>\n",
              "      <th>use</th>\n",
              "      <th>voters</th>\n",
              "      <th>we</th>\n",
              "    </tr>\n",
              "  </thead>\n",
              "  <tbody>\n",
              "    <tr>\n",
              "      <th>0</th>\n",
              "      <td>0</td>\n",
              "      <td>0</td>\n",
              "      <td>0</td>\n",
              "      <td>0</td>\n",
              "      <td>0</td>\n",
              "      <td>1</td>\n",
              "      <td>0</td>\n",
              "      <td>0</td>\n",
              "      <td>0</td>\n",
              "      <td>0</td>\n",
              "      <td>0</td>\n",
              "      <td>0</td>\n",
              "      <td>1</td>\n",
              "      <td>0</td>\n",
              "      <td>0</td>\n",
              "      <td>1</td>\n",
              "      <td>0</td>\n",
              "      <td>1</td>\n",
              "      <td>0</td>\n",
              "      <td>1</td>\n",
              "      <td>0</td>\n",
              "      <td>0</td>\n",
              "      <td>1</td>\n",
              "      <td>1</td>\n",
              "      <td>0</td>\n",
              "      <td>0</td>\n",
              "      <td>0</td>\n",
              "      <td>0</td>\n",
              "    </tr>\n",
              "    <tr>\n",
              "      <th>1</th>\n",
              "      <td>0</td>\n",
              "      <td>0</td>\n",
              "      <td>0</td>\n",
              "      <td>1</td>\n",
              "      <td>0</td>\n",
              "      <td>1</td>\n",
              "      <td>1</td>\n",
              "      <td>1</td>\n",
              "      <td>1</td>\n",
              "      <td>0</td>\n",
              "      <td>1</td>\n",
              "      <td>0</td>\n",
              "      <td>0</td>\n",
              "      <td>0</td>\n",
              "      <td>0</td>\n",
              "      <td>0</td>\n",
              "      <td>0</td>\n",
              "      <td>0</td>\n",
              "      <td>0</td>\n",
              "      <td>1</td>\n",
              "      <td>1</td>\n",
              "      <td>1</td>\n",
              "      <td>0</td>\n",
              "      <td>0</td>\n",
              "      <td>1</td>\n",
              "      <td>0</td>\n",
              "      <td>0</td>\n",
              "      <td>0</td>\n",
              "    </tr>\n",
              "    <tr>\n",
              "      <th>2</th>\n",
              "      <td>1</td>\n",
              "      <td>0</td>\n",
              "      <td>0</td>\n",
              "      <td>0</td>\n",
              "      <td>1</td>\n",
              "      <td>0</td>\n",
              "      <td>0</td>\n",
              "      <td>0</td>\n",
              "      <td>0</td>\n",
              "      <td>1</td>\n",
              "      <td>0</td>\n",
              "      <td>0</td>\n",
              "      <td>0</td>\n",
              "      <td>1</td>\n",
              "      <td>1</td>\n",
              "      <td>0</td>\n",
              "      <td>0</td>\n",
              "      <td>0</td>\n",
              "      <td>0</td>\n",
              "      <td>0</td>\n",
              "      <td>0</td>\n",
              "      <td>1</td>\n",
              "      <td>1</td>\n",
              "      <td>0</td>\n",
              "      <td>0</td>\n",
              "      <td>0</td>\n",
              "      <td>1</td>\n",
              "      <td>0</td>\n",
              "    </tr>\n",
              "    <tr>\n",
              "      <th>3</th>\n",
              "      <td>0</td>\n",
              "      <td>1</td>\n",
              "      <td>1</td>\n",
              "      <td>0</td>\n",
              "      <td>0</td>\n",
              "      <td>1</td>\n",
              "      <td>0</td>\n",
              "      <td>0</td>\n",
              "      <td>0</td>\n",
              "      <td>0</td>\n",
              "      <td>0</td>\n",
              "      <td>1</td>\n",
              "      <td>0</td>\n",
              "      <td>0</td>\n",
              "      <td>0</td>\n",
              "      <td>0</td>\n",
              "      <td>1</td>\n",
              "      <td>0</td>\n",
              "      <td>1</td>\n",
              "      <td>0</td>\n",
              "      <td>0</td>\n",
              "      <td>0</td>\n",
              "      <td>0</td>\n",
              "      <td>0</td>\n",
              "      <td>0</td>\n",
              "      <td>1</td>\n",
              "      <td>0</td>\n",
              "      <td>1</td>\n",
              "    </tr>\n",
              "  </tbody>\n",
              "</table>\n",
              "</div>"
            ],
            "text/plain": [
              "   chance  covid  crisis  day  donald  ...  trying  tuneup  use  voters  we\n",
              "0       0      0       0    0       0  ...       1       0    0       0   0\n",
              "1       0      0       0    1       0  ...       0       1    0       0   0\n",
              "2       1      0       0    0       1  ...       0       0    0       1   0\n",
              "3       0      1       1    0       0  ...       0       0    1       0   1\n",
              "\n",
              "[4 rows x 28 columns]"
            ]
          },
          "metadata": {
            "tags": []
          },
          "execution_count": 161
        }
      ]
    },
    {
      "cell_type": "code",
      "metadata": {
        "id": "Ik-gOfR8sVEB",
        "colab_type": "code",
        "colab": {
          "base_uri": "https://localhost:8080/",
          "height": 595
        },
        "outputId": "cc382b31-2b50-4646-9864-518651440d3e"
      },
      "source": [
        "word_list_y = vec_y.get_feature_names()\n",
        "count_list_y = X_y.toarray().sum(axis=0)\n",
        "freq_y = dict(zip(word_list_y, count_list_y))\n",
        "freq_y"
      ],
      "execution_count": 162,
      "outputs": [
        {
          "output_type": "execute_result",
          "data": {
            "text/plain": [
              "{'ai': 2,\n",
              " 'auto': 1,\n",
              " 'bridging': 1,\n",
              " 'can': 1,\n",
              " 'claim': 1,\n",
              " 'covid': 1,\n",
              " 'dbs': 1,\n",
              " 'deep': 1,\n",
              " 'deepmind': 1,\n",
              " 'definining': 1,\n",
              " 'for': 1,\n",
              " 'gaps': 1,\n",
              " 'google': 1,\n",
              " 'help': 1,\n",
              " 'improve': 1,\n",
              " 'introduce': 1,\n",
              " 'java': 1,\n",
              " 'learning': 7,\n",
              " 'library': 1,\n",
              " 'machine': 6,\n",
              " 'maps': 1,\n",
              " 'martech': 1,\n",
              " 'ml': 1,\n",
              " 'model': 1,\n",
              " 'open': 1,\n",
              " 'oracle': 1,\n",
              " 'related': 1,\n",
              " 'separate': 1,\n",
              " 'skill': 1,\n",
              " 'sources': 1,\n",
              " 'spin': 1,\n",
              " 'taking': 1,\n",
              " 'tool': 1,\n",
              " 'with': 1}"
            ]
          },
          "metadata": {
            "tags": []
          },
          "execution_count": 162
        }
      ]
    },
    {
      "cell_type": "code",
      "metadata": {
        "id": "Wl6HS21isVEG",
        "colab_type": "code",
        "colab": {
          "base_uri": "https://localhost:8080/",
          "height": 493
        },
        "outputId": "eff89dc9-b552-4b3c-d4da-d0ce7ad194fa"
      },
      "source": [
        "word_list_n = vec_n.get_feature_names()\n",
        "count_list_n = X_n.toarray().sum(axis=0)\n",
        "freq_n = dict(zip(word_list_n, count_list_n))\n",
        "freq_n"
      ],
      "execution_count": 163,
      "outputs": [
        {
          "output_type": "execute_result",
          "data": {
            "text/plain": [
              "{'chance': 1,\n",
              " 'covid': 1,\n",
              " 'crisis': 1,\n",
              " 'day': 1,\n",
              " 'donald': 1,\n",
              " 'economy': 3,\n",
              " 'fed': 1,\n",
              " 'for': 1,\n",
              " 'get': 1,\n",
              " 'hispanic': 1,\n",
              " 'it': 1,\n",
              " 'must': 1,\n",
              " 'not': 1,\n",
              " 'off': 1,\n",
              " 'peel': 1,\n",
              " 'reason': 1,\n",
              " 'rehape': 1,\n",
              " 'save': 1,\n",
              " 'society': 1,\n",
              " 'the': 2,\n",
              " 'time': 1,\n",
              " 'to': 2,\n",
              " 'trump': 2,\n",
              " 'trying': 1,\n",
              " 'tuneup': 1,\n",
              " 'use': 1,\n",
              " 'voters': 1,\n",
              " 'we': 1}"
            ]
          },
          "metadata": {
            "tags": []
          },
          "execution_count": 163
        }
      ]
    },
    {
      "cell_type": "code",
      "metadata": {
        "id": "eLonf7uk3Ayg",
        "colab_type": "code",
        "colab": {
          "base_uri": "https://localhost:8080/",
          "height": 595
        },
        "outputId": "17380b53-1776-44e6-ac45-d7393b749a05"
      },
      "source": [
        "prob_y = []\n",
        "for word, count in zip(word_list_y, count_list_y):\n",
        "    prob_y.append(count/len(word_list_y))\n",
        "dict(zip(word_list_y, prob_y))\n"
      ],
      "execution_count": 164,
      "outputs": [
        {
          "output_type": "execute_result",
          "data": {
            "text/plain": [
              "{'ai': 0.058823529411764705,\n",
              " 'auto': 0.029411764705882353,\n",
              " 'bridging': 0.029411764705882353,\n",
              " 'can': 0.029411764705882353,\n",
              " 'claim': 0.029411764705882353,\n",
              " 'covid': 0.029411764705882353,\n",
              " 'dbs': 0.029411764705882353,\n",
              " 'deep': 0.029411764705882353,\n",
              " 'deepmind': 0.029411764705882353,\n",
              " 'definining': 0.029411764705882353,\n",
              " 'for': 0.029411764705882353,\n",
              " 'gaps': 0.029411764705882353,\n",
              " 'google': 0.029411764705882353,\n",
              " 'help': 0.029411764705882353,\n",
              " 'improve': 0.029411764705882353,\n",
              " 'introduce': 0.029411764705882353,\n",
              " 'java': 0.029411764705882353,\n",
              " 'learning': 0.20588235294117646,\n",
              " 'library': 0.029411764705882353,\n",
              " 'machine': 0.17647058823529413,\n",
              " 'maps': 0.029411764705882353,\n",
              " 'martech': 0.029411764705882353,\n",
              " 'ml': 0.029411764705882353,\n",
              " 'model': 0.029411764705882353,\n",
              " 'open': 0.029411764705882353,\n",
              " 'oracle': 0.029411764705882353,\n",
              " 'related': 0.029411764705882353,\n",
              " 'separate': 0.029411764705882353,\n",
              " 'skill': 0.029411764705882353,\n",
              " 'sources': 0.029411764705882353,\n",
              " 'spin': 0.029411764705882353,\n",
              " 'taking': 0.029411764705882353,\n",
              " 'tool': 0.029411764705882353,\n",
              " 'with': 0.029411764705882353}"
            ]
          },
          "metadata": {
            "tags": []
          },
          "execution_count": 164
        }
      ]
    },
    {
      "cell_type": "code",
      "metadata": {
        "id": "Q1Rh8xXa3Tc1",
        "colab_type": "code",
        "colab": {
          "base_uri": "https://localhost:8080/",
          "height": 493
        },
        "outputId": "da8db172-8a15-4982-9cb2-04c9410c7aed"
      },
      "source": [
        "prob_n = []\n",
        "for word, count in zip(word_list_n, count_list_n):\n",
        "    prob_n.append(count/len(word_list_n))\n",
        "dict(zip(word_list_n, prob_n))"
      ],
      "execution_count": 165,
      "outputs": [
        {
          "output_type": "execute_result",
          "data": {
            "text/plain": [
              "{'chance': 0.03571428571428571,\n",
              " 'covid': 0.03571428571428571,\n",
              " 'crisis': 0.03571428571428571,\n",
              " 'day': 0.03571428571428571,\n",
              " 'donald': 0.03571428571428571,\n",
              " 'economy': 0.10714285714285714,\n",
              " 'fed': 0.03571428571428571,\n",
              " 'for': 0.03571428571428571,\n",
              " 'get': 0.03571428571428571,\n",
              " 'hispanic': 0.03571428571428571,\n",
              " 'it': 0.03571428571428571,\n",
              " 'must': 0.03571428571428571,\n",
              " 'not': 0.03571428571428571,\n",
              " 'off': 0.03571428571428571,\n",
              " 'peel': 0.03571428571428571,\n",
              " 'reason': 0.03571428571428571,\n",
              " 'rehape': 0.03571428571428571,\n",
              " 'save': 0.03571428571428571,\n",
              " 'society': 0.03571428571428571,\n",
              " 'the': 0.07142857142857142,\n",
              " 'time': 0.03571428571428571,\n",
              " 'to': 0.07142857142857142,\n",
              " 'trump': 0.07142857142857142,\n",
              " 'trying': 0.03571428571428571,\n",
              " 'tuneup': 0.03571428571428571,\n",
              " 'use': 0.03571428571428571,\n",
              " 'voters': 0.03571428571428571,\n",
              " 'we': 0.03571428571428571}"
            ]
          },
          "metadata": {
            "tags": []
          },
          "execution_count": 165
        }
      ]
    },
    {
      "cell_type": "code",
      "metadata": {
        "id": "M6n5czys3Zs3",
        "colab_type": "code",
        "colab": {
          "base_uri": "https://localhost:8080/",
          "height": 34
        },
        "outputId": "f05348d6-31cd-45b2-eaef-9ee1a394d706"
      },
      "source": [
        "articles = [row['Title of Article'] for i, row in data.iterrows()]\n",
        "\n",
        "vec = CountVectorizer(binary=True)\n",
        "X_all = vec.fit_transform(articles)\n",
        "total_features = len(vec.get_feature_names())\n",
        "total_features\n"
      ],
      "execution_count": 166,
      "outputs": [
        {
          "output_type": "execute_result",
          "data": {
            "text/plain": [
              "60"
            ]
          },
          "metadata": {
            "tags": []
          },
          "execution_count": 166
        }
      ]
    },
    {
      "cell_type": "code",
      "metadata": {
        "id": "it_1pfJs3bq_",
        "colab_type": "code",
        "colab": {
          "base_uri": "https://localhost:8080/",
          "height": 85
        },
        "outputId": "54426192-bcc5-4c06-a7ba-055e9e9b91fe"
      },
      "source": [
        "X_all.data"
      ],
      "execution_count": 167,
      "outputs": [
        {
          "output_type": "execute_result",
          "data": {
            "text/plain": [
              "array([1, 1, 1, 1, 1, 1, 1, 1, 1, 1, 1, 1, 1, 1, 1, 1, 1, 1, 1, 1, 1, 1,\n",
              "       1, 1, 1, 1, 1, 1, 1, 1, 1, 1, 1, 1, 1, 1, 1, 1, 1, 1, 1, 1, 1, 1,\n",
              "       1, 1, 1, 1, 1, 1, 1, 1, 1, 1, 1, 1, 1, 1, 1, 1, 1, 1, 1, 1, 1, 1,\n",
              "       1, 1, 1, 1, 1, 1, 1, 1, 1, 1, 1, 1])"
            ]
          },
          "metadata": {
            "tags": []
          },
          "execution_count": 167
        }
      ]
    },
    {
      "cell_type": "code",
      "metadata": {
        "id": "xyB4jF8l3eio",
        "colab_type": "code",
        "colab": {
          "base_uri": "https://localhost:8080/",
          "height": 34
        },
        "outputId": "9b7d8036-caee-48d3-e50e-0f135fcf9d1f"
      },
      "source": [
        "len(vec.get_feature_names())"
      ],
      "execution_count": 168,
      "outputs": [
        {
          "output_type": "execute_result",
          "data": {
            "text/plain": [
              "60"
            ]
          },
          "metadata": {
            "tags": []
          },
          "execution_count": 168
        }
      ]
    },
    {
      "cell_type": "code",
      "metadata": {
        "id": "0fv6-usJ3iMs",
        "colab_type": "code",
        "colab": {
          "base_uri": "https://localhost:8080/",
          "height": 51
        },
        "outputId": "625dd181-e4cd-4783-b955-06131168329a"
      },
      "source": [
        "total_count_features_y = count_list_y.sum(axis=0)\n",
        "total_count_features_n = count_list_n.sum(axis=0)\n",
        "print(total_count_features_y)\n",
        "print(total_count_features_n)"
      ],
      "execution_count": 169,
      "outputs": [
        {
          "output_type": "stream",
          "text": [
            "46\n",
            "33\n"
          ],
          "name": "stdout"
        }
      ]
    },
    {
      "cell_type": "code",
      "metadata": {
        "id": "oPjzilWH358w",
        "colab_type": "code",
        "colab": {}
      },
      "source": [
        "text_1 = 'system target ai adoption challenge machine learning builder'\n",
        "split_text_1 = text_1.split()\n",
        "text_2 = 'trump destroying economy though'\n",
        "split_text_2 = text_2.split()"
      ],
      "execution_count": 170,
      "outputs": []
    },
    {
      "cell_type": "code",
      "metadata": {
        "id": "PIFPucGL36TA",
        "colab_type": "code",
        "colab": {
          "base_uri": "https://localhost:8080/",
          "height": 289
        },
        "outputId": "45986982-9d11-4749-c9a4-567865e25501"
      },
      "source": [
        "prob_text_1yes = []\n",
        "for word in split_text_1:\n",
        "    if word in freq_y.keys():\n",
        "        count = freq_y[word]\n",
        "    else:\n",
        "        count = 0\n",
        "    print(word, count, count+1, total_count_features_y, total_features, total_count_features_y+total_features)\n",
        "    prob_text_1yes.append((count+1)/(total_count_features_y+total_features))\n",
        "dict(zip(split_text_1, prob_text_1yes))"
      ],
      "execution_count": 171,
      "outputs": [
        {
          "output_type": "stream",
          "text": [
            "system 0 1 46 60 106\n",
            "target 0 1 46 60 106\n",
            "ai 2 3 46 60 106\n",
            "adoption 0 1 46 60 106\n",
            "challenge 0 1 46 60 106\n",
            "machine 6 7 46 60 106\n",
            "learning 7 8 46 60 106\n",
            "builder 0 1 46 60 106\n"
          ],
          "name": "stdout"
        },
        {
          "output_type": "execute_result",
          "data": {
            "text/plain": [
              "{'adoption': 0.009433962264150943,\n",
              " 'ai': 0.02830188679245283,\n",
              " 'builder': 0.009433962264150943,\n",
              " 'challenge': 0.009433962264150943,\n",
              " 'learning': 0.07547169811320754,\n",
              " 'machine': 0.0660377358490566,\n",
              " 'system': 0.009433962264150943,\n",
              " 'target': 0.009433962264150943}"
            ]
          },
          "metadata": {
            "tags": []
          },
          "execution_count": 171
        }
      ]
    },
    {
      "cell_type": "code",
      "metadata": {
        "id": "NgrAqbmi37IA",
        "colab_type": "code",
        "colab": {
          "base_uri": "https://localhost:8080/",
          "height": 289
        },
        "outputId": "b2be263d-b164-4b8e-886c-03c8a6d6b723"
      },
      "source": [
        "\n",
        "prob_text_1no = []\n",
        "for word in split_text_1:\n",
        "    if word in freq_n.keys():\n",
        "        count = freq_n[word]\n",
        "    else:\n",
        "        count = 0\n",
        "    print(word, count, count+1, total_count_features_n, total_features, total_count_features_y+total_features)\n",
        "    prob_text_1no.append((count+1)/(total_count_features_n+total_features))\n",
        "dict(zip(split_text_1, prob_text_1no))"
      ],
      "execution_count": 172,
      "outputs": [
        {
          "output_type": "stream",
          "text": [
            "system 0 1 33 60 106\n",
            "target 0 1 33 60 106\n",
            "ai 0 1 33 60 106\n",
            "adoption 0 1 33 60 106\n",
            "challenge 0 1 33 60 106\n",
            "machine 0 1 33 60 106\n",
            "learning 0 1 33 60 106\n",
            "builder 0 1 33 60 106\n"
          ],
          "name": "stdout"
        },
        {
          "output_type": "execute_result",
          "data": {
            "text/plain": [
              "{'adoption': 0.010752688172043012,\n",
              " 'ai': 0.010752688172043012,\n",
              " 'builder': 0.010752688172043012,\n",
              " 'challenge': 0.010752688172043012,\n",
              " 'learning': 0.010752688172043012,\n",
              " 'machine': 0.010752688172043012,\n",
              " 'system': 0.010752688172043012,\n",
              " 'target': 0.010752688172043012}"
            ]
          },
          "metadata": {
            "tags": []
          },
          "execution_count": 172
        }
      ]
    },
    {
      "cell_type": "code",
      "metadata": {
        "id": "vzjV8S5-39vi",
        "colab_type": "code",
        "colab": {
          "base_uri": "https://localhost:8080/",
          "height": 153
        },
        "outputId": "8a3047b9-3128-4eb8-fca6-887ca005af7a"
      },
      "source": [
        "prob_text_2yes = []\n",
        "for word in split_text_2:\n",
        "    if word in freq_y.keys():\n",
        "        count = freq_y[word]\n",
        "    else:\n",
        "        count = 0\n",
        "    print(word, count, count+1, total_count_features_y, total_features, total_count_features_y+total_features)\n",
        "    prob_text_2yes.append((count+1)/(total_count_features_y+total_features))\n",
        "dict(zip(split_text_2, prob_text_2yes))"
      ],
      "execution_count": 173,
      "outputs": [
        {
          "output_type": "stream",
          "text": [
            "trump 0 1 46 60 106\n",
            "destroying 0 1 46 60 106\n",
            "economy 0 1 46 60 106\n",
            "though 0 1 46 60 106\n"
          ],
          "name": "stdout"
        },
        {
          "output_type": "execute_result",
          "data": {
            "text/plain": [
              "{'destroying': 0.009433962264150943,\n",
              " 'economy': 0.009433962264150943,\n",
              " 'though': 0.009433962264150943,\n",
              " 'trump': 0.009433962264150943}"
            ]
          },
          "metadata": {
            "tags": []
          },
          "execution_count": 173
        }
      ]
    },
    {
      "cell_type": "code",
      "metadata": {
        "id": "P45Yc5rl4Dil",
        "colab_type": "code",
        "colab": {
          "base_uri": "https://localhost:8080/",
          "height": 153
        },
        "outputId": "870f4166-0179-4cb5-9953-559209eb4cae"
      },
      "source": [
        "prob_text_2no = []\n",
        "for word in split_text_2:\n",
        "    if word in freq_n.keys():\n",
        "        count = freq_n[word]\n",
        "    else:\n",
        "        count = 0\n",
        "    print(word, count, count+1, total_count_features_n, total_features, total_count_features_y+total_features)\n",
        "    prob_text_2no.append((count+1)/(total_count_features_n+total_features))\n",
        "dict(zip(split_text_2, prob_text_2no))"
      ],
      "execution_count": 174,
      "outputs": [
        {
          "output_type": "stream",
          "text": [
            "trump 2 3 33 60 106\n",
            "destroying 0 1 33 60 106\n",
            "economy 3 4 33 60 106\n",
            "though 0 1 33 60 106\n"
          ],
          "name": "stdout"
        },
        {
          "output_type": "execute_result",
          "data": {
            "text/plain": [
              "{'destroying': 0.010752688172043012,\n",
              " 'economy': 0.043010752688172046,\n",
              " 'though': 0.010752688172043012,\n",
              " 'trump': 0.03225806451612903}"
            ]
          },
          "metadata": {
            "tags": []
          },
          "execution_count": 174
        }
      ]
    },
    {
      "cell_type": "code",
      "metadata": {
        "id": "cLeL5IzN4KTy",
        "colab_type": "code",
        "colab": {
          "base_uri": "https://localhost:8080/",
          "height": 51
        },
        "outputId": "31da522c-e13c-4ed2-e28f-2f1629a054ca"
      },
      "source": [
        "print(text_1)\n",
        "if np.prod(prob_text_1yes)>np.prod(prob_text_1no):\n",
        "  print('interesting = yes')\n",
        "else:\n",
        "  print('interesting = no')"
      ],
      "execution_count": 175,
      "outputs": [
        {
          "output_type": "stream",
          "text": [
            "system target ai adoption challenge machine learning builder\n",
            "interesting = yes\n"
          ],
          "name": "stdout"
        }
      ]
    },
    {
      "cell_type": "code",
      "metadata": {
        "id": "kn8nHm424LDo",
        "colab_type": "code",
        "colab": {
          "base_uri": "https://localhost:8080/",
          "height": 51
        },
        "outputId": "352f6ecd-b689-4f0e-f09d-404daeaef2bf"
      },
      "source": [
        "print(text_2)\n",
        "if np.prod(prob_text_2yes)>np.prod(prob_text_2no):\n",
        "  print('interesting = yes')\n",
        "else:\n",
        "  print('interesting = no')"
      ],
      "execution_count": 176,
      "outputs": [
        {
          "output_type": "stream",
          "text": [
            "trump destroying economy though\n",
            "interesting = no\n"
          ],
          "name": "stdout"
        }
      ]
    },
    {
      "cell_type": "code",
      "metadata": {
        "id": "ZipzjdYm4APm",
        "colab_type": "code",
        "colab": {}
      },
      "source": [
        ""
      ],
      "execution_count": 176,
      "outputs": []
    }
  ]
}