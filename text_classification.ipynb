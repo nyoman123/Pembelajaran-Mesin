{
  "nbformat": 4,
  "nbformat_minor": 0,
  "metadata": {
    "kernelspec": {
      "display_name": "Python 3.7.6 64-bit ('compvis': conda)",
      "language": "python",
      "name": "python37664bitcompvisconda2d3448796e3e49d498304dbbfe353f71"
    },
    "language_info": {
      "codemirror_mode": {
        "name": "ipython",
        "version": 3
      },
      "file_extension": ".py",
      "mimetype": "text/x-python",
      "name": "python",
      "nbconvert_exporter": "python",
      "pygments_lexer": "ipython3",
      "version": "3.7.6"
    },
    "colab": {
      "name": "text classification.ipynb",
      "provenance": [],
      "collapsed_sections": [],
      "include_colab_link": true
    }
  },
  "cells": [
    {
      "cell_type": "markdown",
      "metadata": {
        "id": "view-in-github",
        "colab_type": "text"
      },
      "source": [
        "<a href=\"https://colab.research.google.com/github/nyoman123/Pembelajaran-Mesin/blob/master/text_classification.ipynb\" target=\"_parent\"><img src=\"https://colab.research.google.com/assets/colab-badge.svg\" alt=\"Open In Colab\"/></a>"
      ]
    },
    {
      "cell_type": "code",
      "metadata": {
        "id": "zW6mj32nvMXo",
        "colab_type": "code",
        "colab": {
          "base_uri": "https://localhost:8080/",
          "height": 34
        },
        "outputId": "90b4db9c-21f7-4137-9c2d-fe9e8790aa62"
      },
      "source": [
        "from google.colab import drive\n",
        "drive.mount('/content/drive')"
      ],
      "execution_count": 1,
      "outputs": [
        {
          "output_type": "stream",
          "text": [
            "Drive already mounted at /content/drive; to attempt to forcibly remount, call drive.mount(\"/content/drive\", force_remount=True).\n"
          ],
          "name": "stdout"
        }
      ]
    },
    {
      "cell_type": "code",
      "metadata": {
        "id": "p6NW3AsyvLxE",
        "colab_type": "code",
        "colab": {
          "base_uri": "https://localhost:8080/",
          "height": 34
        },
        "outputId": "4f4f9b8d-a21b-491e-f402-3498b429488b"
      },
      "source": [
        "\n",
        "%cd /content/drive/My Drive/Colab Notebooks/PEMBELAJARAN MESIN"
      ],
      "execution_count": 2,
      "outputs": [
        {
          "output_type": "stream",
          "text": [
            "/content/drive/My Drive/Colab Notebooks/PEMBELAJARAN MESIN\n"
          ],
          "name": "stdout"
        }
      ]
    },
    {
      "cell_type": "code",
      "metadata": {
        "id": "PWCVWUALv_ba",
        "colab_type": "code",
        "colab": {
          "base_uri": "https://localhost:8080/",
          "height": 34
        },
        "outputId": "6fedee2b-a839-456a-dede-1483423000d4"
      },
      "source": [
        "ls\n"
      ],
      "execution_count": 3,
      "outputs": [
        {
          "output_type": "stream",
          "text": [
            "\u001b[0m\u001b[01;34m'TEXT NAIVE BAYES'\u001b[0m/\n"
          ],
          "name": "stdout"
        }
      ]
    },
    {
      "cell_type": "code",
      "metadata": {
        "id": "1WhYm-tLwDpO",
        "colab_type": "code",
        "colab": {
          "base_uri": "https://localhost:8080/",
          "height": 34
        },
        "outputId": "5b306d79-b83e-478a-bd4b-ff0f6f0b0498"
      },
      "source": [
        "%cd /content/drive/My Drive/Colab Notebooks/PEMBELAJARAN MESIN/TEXT NAIVE BAYES"
      ],
      "execution_count": 4,
      "outputs": [
        {
          "output_type": "stream",
          "text": [
            "/content/drive/My Drive/Colab Notebooks/PEMBELAJARAN MESIN/TEXT NAIVE BAYES\n"
          ],
          "name": "stdout"
        }
      ]
    },
    {
      "cell_type": "code",
      "metadata": {
        "id": "wNqQ98HUwKRz",
        "colab_type": "code",
        "colab": {
          "base_uri": "https://localhost:8080/",
          "height": 34
        },
        "outputId": "2f873ac2-a2cc-45cf-e5bd-09813a45df34"
      },
      "source": [
        "ls"
      ],
      "execution_count": 5,
      "outputs": [
        {
          "output_type": "stream",
          "text": [
            " data.csv  'text classification.ipynb'\n"
          ],
          "name": "stdout"
        }
      ]
    },
    {
      "cell_type": "code",
      "metadata": {
        "id": "ptBvEd0xsVDl",
        "colab_type": "code",
        "colab": {}
      },
      "source": [
        "import numpy as np\n",
        "import pandas as pd\n",
        "from collections import defaultdict"
      ],
      "execution_count": 6,
      "outputs": []
    },
    {
      "cell_type": "code",
      "metadata": {
        "id": "d4if_11osVDu",
        "colab_type": "code",
        "colab": {
          "base_uri": "https://localhost:8080/",
          "height": 359
        },
        "outputId": "4b51f510-1093-4f8c-d1cd-425bb6c01a25"
      },
      "source": [
        "data = pd.read_csv('data.csv')\n",
        "data"
      ],
      "execution_count": 7,
      "outputs": [
        {
          "output_type": "execute_result",
          "data": {
            "text/html": [
              "<div>\n",
              "<style scoped>\n",
              "    .dataframe tbody tr th:only-of-type {\n",
              "        vertical-align: middle;\n",
              "    }\n",
              "\n",
              "    .dataframe tbody tr th {\n",
              "        vertical-align: top;\n",
              "    }\n",
              "\n",
              "    .dataframe thead th {\n",
              "        text-align: right;\n",
              "    }\n",
              "</style>\n",
              "<table border=\"1\" class=\"dataframe\">\n",
              "  <thead>\n",
              "    <tr style=\"text-align: right;\">\n",
              "      <th></th>\n",
              "      <th>No</th>\n",
              "      <th>Title of Article</th>\n",
              "      <th>Interesting</th>\n",
              "    </tr>\n",
              "  </thead>\n",
              "  <tbody>\n",
              "    <tr>\n",
              "      <th>0</th>\n",
              "      <td>1</td>\n",
              "      <td>oracle open sources java machine learning library</td>\n",
              "      <td>yes</td>\n",
              "    </tr>\n",
              "    <tr>\n",
              "      <th>1</th>\n",
              "      <td>2</td>\n",
              "      <td>the reason trump not trying save economy</td>\n",
              "      <td>no</td>\n",
              "    </tr>\n",
              "    <tr>\n",
              "      <th>2</th>\n",
              "      <td>3</td>\n",
              "      <td>it fed day time for the economy to get tuneup</td>\n",
              "      <td>no</td>\n",
              "    </tr>\n",
              "    <tr>\n",
              "      <th>3</th>\n",
              "      <td>4</td>\n",
              "      <td>auto ml bridging skill gaps with machine learning</td>\n",
              "      <td>yes</td>\n",
              "    </tr>\n",
              "    <tr>\n",
              "      <th>4</th>\n",
              "      <td>5</td>\n",
              "      <td>donald trump chance to peel off hispanic voters</td>\n",
              "      <td>no</td>\n",
              "    </tr>\n",
              "    <tr>\n",
              "      <th>5</th>\n",
              "      <td>6</td>\n",
              "      <td>definining ai machine learning deep learning m...</td>\n",
              "      <td>yes</td>\n",
              "    </tr>\n",
              "    <tr>\n",
              "      <th>6</th>\n",
              "      <td>7</td>\n",
              "      <td>ai machine learning tool can help separate cov...</td>\n",
              "      <td>yes</td>\n",
              "    </tr>\n",
              "    <tr>\n",
              "      <th>7</th>\n",
              "      <td>8</td>\n",
              "      <td>dbs taking machine learning for spin</td>\n",
              "      <td>yes</td>\n",
              "    </tr>\n",
              "    <tr>\n",
              "      <th>8</th>\n",
              "      <td>9</td>\n",
              "      <td>deepmind introduce machine learning model impr...</td>\n",
              "      <td>yes</td>\n",
              "    </tr>\n",
              "    <tr>\n",
              "      <th>9</th>\n",
              "      <td>10</td>\n",
              "      <td>we must use covid crisis rehape society economy</td>\n",
              "      <td>no</td>\n",
              "    </tr>\n",
              "  </tbody>\n",
              "</table>\n",
              "</div>"
            ],
            "text/plain": [
              "   No                                   Title of Article Interesting\n",
              "0   1  oracle open sources java machine learning library         yes\n",
              "1   2           the reason trump not trying save economy          no\n",
              "2   3      it fed day time for the economy to get tuneup          no\n",
              "3   4  auto ml bridging skill gaps with machine learning         yes\n",
              "4   5    donald trump chance to peel off hispanic voters          no\n",
              "5   6  definining ai machine learning deep learning m...         yes\n",
              "6   7  ai machine learning tool can help separate cov...         yes\n",
              "7   8               dbs taking machine learning for spin         yes\n",
              "8   9  deepmind introduce machine learning model impr...         yes\n",
              "9  10    we must use covid crisis rehape society economy          no"
            ]
          },
          "metadata": {
            "tags": []
          },
          "execution_count": 7
        }
      ]
    },
    {
      "cell_type": "code",
      "metadata": {
        "id": "sjtJHJcRsVDz",
        "colab_type": "code",
        "colab": {
          "base_uri": "https://localhost:8080/",
          "height": 255
        },
        "outputId": "bdf03c9b-6c96-4c43-c082-0c061a6b1488"
      },
      "source": [
        "from sklearn.feature_extraction.text import CountVectorizer\n",
        "yes = [row['Title of Article'] for i, row in data.iterrows() if row['Interesting'] == 'yes']\n",
        "vec_yes = CountVectorizer()\n",
        "X_yes = vec_yes.fit_transform(yes)\n",
        "tabel_yes = pd.DataFrame(X_yes.toarray(), columns=vec_yes.get_feature_names())\n",
        "tabel_yes"
      ],
      "execution_count": 8,
      "outputs": [
        {
          "output_type": "execute_result",
          "data": {
            "text/html": [
              "<div>\n",
              "<style scoped>\n",
              "    .dataframe tbody tr th:only-of-type {\n",
              "        vertical-align: middle;\n",
              "    }\n",
              "\n",
              "    .dataframe tbody tr th {\n",
              "        vertical-align: top;\n",
              "    }\n",
              "\n",
              "    .dataframe thead th {\n",
              "        text-align: right;\n",
              "    }\n",
              "</style>\n",
              "<table border=\"1\" class=\"dataframe\">\n",
              "  <thead>\n",
              "    <tr style=\"text-align: right;\">\n",
              "      <th></th>\n",
              "      <th>ai</th>\n",
              "      <th>auto</th>\n",
              "      <th>bridging</th>\n",
              "      <th>can</th>\n",
              "      <th>claim</th>\n",
              "      <th>covid</th>\n",
              "      <th>dbs</th>\n",
              "      <th>deep</th>\n",
              "      <th>deepmind</th>\n",
              "      <th>definining</th>\n",
              "      <th>for</th>\n",
              "      <th>gaps</th>\n",
              "      <th>google</th>\n",
              "      <th>help</th>\n",
              "      <th>improve</th>\n",
              "      <th>introduce</th>\n",
              "      <th>java</th>\n",
              "      <th>learning</th>\n",
              "      <th>library</th>\n",
              "      <th>machine</th>\n",
              "      <th>maps</th>\n",
              "      <th>martech</th>\n",
              "      <th>ml</th>\n",
              "      <th>model</th>\n",
              "      <th>open</th>\n",
              "      <th>oracle</th>\n",
              "      <th>related</th>\n",
              "      <th>separate</th>\n",
              "      <th>skill</th>\n",
              "      <th>sources</th>\n",
              "      <th>spin</th>\n",
              "      <th>taking</th>\n",
              "      <th>tool</th>\n",
              "      <th>with</th>\n",
              "    </tr>\n",
              "  </thead>\n",
              "  <tbody>\n",
              "    <tr>\n",
              "      <th>0</th>\n",
              "      <td>0</td>\n",
              "      <td>0</td>\n",
              "      <td>0</td>\n",
              "      <td>0</td>\n",
              "      <td>0</td>\n",
              "      <td>0</td>\n",
              "      <td>0</td>\n",
              "      <td>0</td>\n",
              "      <td>0</td>\n",
              "      <td>0</td>\n",
              "      <td>0</td>\n",
              "      <td>0</td>\n",
              "      <td>0</td>\n",
              "      <td>0</td>\n",
              "      <td>0</td>\n",
              "      <td>0</td>\n",
              "      <td>1</td>\n",
              "      <td>1</td>\n",
              "      <td>1</td>\n",
              "      <td>1</td>\n",
              "      <td>0</td>\n",
              "      <td>0</td>\n",
              "      <td>0</td>\n",
              "      <td>0</td>\n",
              "      <td>1</td>\n",
              "      <td>1</td>\n",
              "      <td>0</td>\n",
              "      <td>0</td>\n",
              "      <td>0</td>\n",
              "      <td>1</td>\n",
              "      <td>0</td>\n",
              "      <td>0</td>\n",
              "      <td>0</td>\n",
              "      <td>0</td>\n",
              "    </tr>\n",
              "    <tr>\n",
              "      <th>1</th>\n",
              "      <td>0</td>\n",
              "      <td>1</td>\n",
              "      <td>1</td>\n",
              "      <td>0</td>\n",
              "      <td>0</td>\n",
              "      <td>0</td>\n",
              "      <td>0</td>\n",
              "      <td>0</td>\n",
              "      <td>0</td>\n",
              "      <td>0</td>\n",
              "      <td>0</td>\n",
              "      <td>1</td>\n",
              "      <td>0</td>\n",
              "      <td>0</td>\n",
              "      <td>0</td>\n",
              "      <td>0</td>\n",
              "      <td>0</td>\n",
              "      <td>1</td>\n",
              "      <td>0</td>\n",
              "      <td>1</td>\n",
              "      <td>0</td>\n",
              "      <td>0</td>\n",
              "      <td>1</td>\n",
              "      <td>0</td>\n",
              "      <td>0</td>\n",
              "      <td>0</td>\n",
              "      <td>0</td>\n",
              "      <td>0</td>\n",
              "      <td>1</td>\n",
              "      <td>0</td>\n",
              "      <td>0</td>\n",
              "      <td>0</td>\n",
              "      <td>0</td>\n",
              "      <td>1</td>\n",
              "    </tr>\n",
              "    <tr>\n",
              "      <th>2</th>\n",
              "      <td>1</td>\n",
              "      <td>0</td>\n",
              "      <td>0</td>\n",
              "      <td>0</td>\n",
              "      <td>0</td>\n",
              "      <td>0</td>\n",
              "      <td>0</td>\n",
              "      <td>1</td>\n",
              "      <td>0</td>\n",
              "      <td>1</td>\n",
              "      <td>0</td>\n",
              "      <td>0</td>\n",
              "      <td>0</td>\n",
              "      <td>0</td>\n",
              "      <td>0</td>\n",
              "      <td>0</td>\n",
              "      <td>0</td>\n",
              "      <td>2</td>\n",
              "      <td>0</td>\n",
              "      <td>1</td>\n",
              "      <td>0</td>\n",
              "      <td>1</td>\n",
              "      <td>0</td>\n",
              "      <td>0</td>\n",
              "      <td>0</td>\n",
              "      <td>0</td>\n",
              "      <td>0</td>\n",
              "      <td>0</td>\n",
              "      <td>0</td>\n",
              "      <td>0</td>\n",
              "      <td>0</td>\n",
              "      <td>0</td>\n",
              "      <td>0</td>\n",
              "      <td>0</td>\n",
              "    </tr>\n",
              "    <tr>\n",
              "      <th>3</th>\n",
              "      <td>1</td>\n",
              "      <td>0</td>\n",
              "      <td>0</td>\n",
              "      <td>1</td>\n",
              "      <td>1</td>\n",
              "      <td>1</td>\n",
              "      <td>0</td>\n",
              "      <td>0</td>\n",
              "      <td>0</td>\n",
              "      <td>0</td>\n",
              "      <td>0</td>\n",
              "      <td>0</td>\n",
              "      <td>0</td>\n",
              "      <td>1</td>\n",
              "      <td>0</td>\n",
              "      <td>0</td>\n",
              "      <td>0</td>\n",
              "      <td>1</td>\n",
              "      <td>0</td>\n",
              "      <td>1</td>\n",
              "      <td>0</td>\n",
              "      <td>0</td>\n",
              "      <td>0</td>\n",
              "      <td>0</td>\n",
              "      <td>0</td>\n",
              "      <td>0</td>\n",
              "      <td>1</td>\n",
              "      <td>1</td>\n",
              "      <td>0</td>\n",
              "      <td>0</td>\n",
              "      <td>0</td>\n",
              "      <td>0</td>\n",
              "      <td>1</td>\n",
              "      <td>0</td>\n",
              "    </tr>\n",
              "    <tr>\n",
              "      <th>4</th>\n",
              "      <td>0</td>\n",
              "      <td>0</td>\n",
              "      <td>0</td>\n",
              "      <td>0</td>\n",
              "      <td>0</td>\n",
              "      <td>0</td>\n",
              "      <td>1</td>\n",
              "      <td>0</td>\n",
              "      <td>0</td>\n",
              "      <td>0</td>\n",
              "      <td>1</td>\n",
              "      <td>0</td>\n",
              "      <td>0</td>\n",
              "      <td>0</td>\n",
              "      <td>0</td>\n",
              "      <td>0</td>\n",
              "      <td>0</td>\n",
              "      <td>1</td>\n",
              "      <td>0</td>\n",
              "      <td>1</td>\n",
              "      <td>0</td>\n",
              "      <td>0</td>\n",
              "      <td>0</td>\n",
              "      <td>0</td>\n",
              "      <td>0</td>\n",
              "      <td>0</td>\n",
              "      <td>0</td>\n",
              "      <td>0</td>\n",
              "      <td>0</td>\n",
              "      <td>0</td>\n",
              "      <td>1</td>\n",
              "      <td>1</td>\n",
              "      <td>0</td>\n",
              "      <td>0</td>\n",
              "    </tr>\n",
              "    <tr>\n",
              "      <th>5</th>\n",
              "      <td>0</td>\n",
              "      <td>0</td>\n",
              "      <td>0</td>\n",
              "      <td>0</td>\n",
              "      <td>0</td>\n",
              "      <td>0</td>\n",
              "      <td>0</td>\n",
              "      <td>0</td>\n",
              "      <td>1</td>\n",
              "      <td>0</td>\n",
              "      <td>0</td>\n",
              "      <td>0</td>\n",
              "      <td>1</td>\n",
              "      <td>0</td>\n",
              "      <td>1</td>\n",
              "      <td>1</td>\n",
              "      <td>0</td>\n",
              "      <td>1</td>\n",
              "      <td>0</td>\n",
              "      <td>1</td>\n",
              "      <td>1</td>\n",
              "      <td>0</td>\n",
              "      <td>0</td>\n",
              "      <td>1</td>\n",
              "      <td>0</td>\n",
              "      <td>0</td>\n",
              "      <td>0</td>\n",
              "      <td>0</td>\n",
              "      <td>0</td>\n",
              "      <td>0</td>\n",
              "      <td>0</td>\n",
              "      <td>0</td>\n",
              "      <td>0</td>\n",
              "      <td>0</td>\n",
              "    </tr>\n",
              "  </tbody>\n",
              "</table>\n",
              "</div>"
            ],
            "text/plain": [
              "   ai  auto  bridging  can  claim  ...  sources  spin  taking  tool  with\n",
              "0   0     0         0    0      0  ...        1     0       0     0     0\n",
              "1   0     1         1    0      0  ...        0     0       0     0     1\n",
              "2   1     0         0    0      0  ...        0     0       0     0     0\n",
              "3   1     0         0    1      1  ...        0     0       0     1     0\n",
              "4   0     0         0    0      0  ...        0     1       1     0     0\n",
              "5   0     0         0    0      0  ...        0     0       0     0     0\n",
              "\n",
              "[6 rows x 34 columns]"
            ]
          },
          "metadata": {
            "tags": []
          },
          "execution_count": 8
        }
      ]
    },
    {
      "cell_type": "code",
      "metadata": {
        "id": "ET-bA1brsVD5",
        "colab_type": "code",
        "colab": {
          "base_uri": "https://localhost:8080/",
          "height": 193
        },
        "outputId": "06a3aa21-050f-4b1a-e18e-3cc7f526038c"
      },
      "source": [
        "no = [row['Title of Article'] for i, row in data.iterrows() if row['Interesting'] == 'no']\n",
        "vec_no = CountVectorizer()\n",
        "X_no = vec_no.fit_transform(no)\n",
        "tabel_no = pd.DataFrame(X_no.toarray(), columns=vec_no.get_feature_names())\n",
        "tabel_no"
      ],
      "execution_count": 9,
      "outputs": [
        {
          "output_type": "execute_result",
          "data": {
            "text/html": [
              "<div>\n",
              "<style scoped>\n",
              "    .dataframe tbody tr th:only-of-type {\n",
              "        vertical-align: middle;\n",
              "    }\n",
              "\n",
              "    .dataframe tbody tr th {\n",
              "        vertical-align: top;\n",
              "    }\n",
              "\n",
              "    .dataframe thead th {\n",
              "        text-align: right;\n",
              "    }\n",
              "</style>\n",
              "<table border=\"1\" class=\"dataframe\">\n",
              "  <thead>\n",
              "    <tr style=\"text-align: right;\">\n",
              "      <th></th>\n",
              "      <th>chance</th>\n",
              "      <th>covid</th>\n",
              "      <th>crisis</th>\n",
              "      <th>day</th>\n",
              "      <th>donald</th>\n",
              "      <th>economy</th>\n",
              "      <th>fed</th>\n",
              "      <th>for</th>\n",
              "      <th>get</th>\n",
              "      <th>hispanic</th>\n",
              "      <th>it</th>\n",
              "      <th>must</th>\n",
              "      <th>not</th>\n",
              "      <th>off</th>\n",
              "      <th>peel</th>\n",
              "      <th>reason</th>\n",
              "      <th>rehape</th>\n",
              "      <th>save</th>\n",
              "      <th>society</th>\n",
              "      <th>the</th>\n",
              "      <th>time</th>\n",
              "      <th>to</th>\n",
              "      <th>trump</th>\n",
              "      <th>trying</th>\n",
              "      <th>tuneup</th>\n",
              "      <th>use</th>\n",
              "      <th>voters</th>\n",
              "      <th>we</th>\n",
              "    </tr>\n",
              "  </thead>\n",
              "  <tbody>\n",
              "    <tr>\n",
              "      <th>0</th>\n",
              "      <td>0</td>\n",
              "      <td>0</td>\n",
              "      <td>0</td>\n",
              "      <td>0</td>\n",
              "      <td>0</td>\n",
              "      <td>1</td>\n",
              "      <td>0</td>\n",
              "      <td>0</td>\n",
              "      <td>0</td>\n",
              "      <td>0</td>\n",
              "      <td>0</td>\n",
              "      <td>0</td>\n",
              "      <td>1</td>\n",
              "      <td>0</td>\n",
              "      <td>0</td>\n",
              "      <td>1</td>\n",
              "      <td>0</td>\n",
              "      <td>1</td>\n",
              "      <td>0</td>\n",
              "      <td>1</td>\n",
              "      <td>0</td>\n",
              "      <td>0</td>\n",
              "      <td>1</td>\n",
              "      <td>1</td>\n",
              "      <td>0</td>\n",
              "      <td>0</td>\n",
              "      <td>0</td>\n",
              "      <td>0</td>\n",
              "    </tr>\n",
              "    <tr>\n",
              "      <th>1</th>\n",
              "      <td>0</td>\n",
              "      <td>0</td>\n",
              "      <td>0</td>\n",
              "      <td>1</td>\n",
              "      <td>0</td>\n",
              "      <td>1</td>\n",
              "      <td>1</td>\n",
              "      <td>1</td>\n",
              "      <td>1</td>\n",
              "      <td>0</td>\n",
              "      <td>1</td>\n",
              "      <td>0</td>\n",
              "      <td>0</td>\n",
              "      <td>0</td>\n",
              "      <td>0</td>\n",
              "      <td>0</td>\n",
              "      <td>0</td>\n",
              "      <td>0</td>\n",
              "      <td>0</td>\n",
              "      <td>1</td>\n",
              "      <td>1</td>\n",
              "      <td>1</td>\n",
              "      <td>0</td>\n",
              "      <td>0</td>\n",
              "      <td>1</td>\n",
              "      <td>0</td>\n",
              "      <td>0</td>\n",
              "      <td>0</td>\n",
              "    </tr>\n",
              "    <tr>\n",
              "      <th>2</th>\n",
              "      <td>1</td>\n",
              "      <td>0</td>\n",
              "      <td>0</td>\n",
              "      <td>0</td>\n",
              "      <td>1</td>\n",
              "      <td>0</td>\n",
              "      <td>0</td>\n",
              "      <td>0</td>\n",
              "      <td>0</td>\n",
              "      <td>1</td>\n",
              "      <td>0</td>\n",
              "      <td>0</td>\n",
              "      <td>0</td>\n",
              "      <td>1</td>\n",
              "      <td>1</td>\n",
              "      <td>0</td>\n",
              "      <td>0</td>\n",
              "      <td>0</td>\n",
              "      <td>0</td>\n",
              "      <td>0</td>\n",
              "      <td>0</td>\n",
              "      <td>1</td>\n",
              "      <td>1</td>\n",
              "      <td>0</td>\n",
              "      <td>0</td>\n",
              "      <td>0</td>\n",
              "      <td>1</td>\n",
              "      <td>0</td>\n",
              "    </tr>\n",
              "    <tr>\n",
              "      <th>3</th>\n",
              "      <td>0</td>\n",
              "      <td>1</td>\n",
              "      <td>1</td>\n",
              "      <td>0</td>\n",
              "      <td>0</td>\n",
              "      <td>1</td>\n",
              "      <td>0</td>\n",
              "      <td>0</td>\n",
              "      <td>0</td>\n",
              "      <td>0</td>\n",
              "      <td>0</td>\n",
              "      <td>1</td>\n",
              "      <td>0</td>\n",
              "      <td>0</td>\n",
              "      <td>0</td>\n",
              "      <td>0</td>\n",
              "      <td>1</td>\n",
              "      <td>0</td>\n",
              "      <td>1</td>\n",
              "      <td>0</td>\n",
              "      <td>0</td>\n",
              "      <td>0</td>\n",
              "      <td>0</td>\n",
              "      <td>0</td>\n",
              "      <td>0</td>\n",
              "      <td>1</td>\n",
              "      <td>0</td>\n",
              "      <td>1</td>\n",
              "    </tr>\n",
              "  </tbody>\n",
              "</table>\n",
              "</div>"
            ],
            "text/plain": [
              "   chance  covid  crisis  day  donald  ...  trying  tuneup  use  voters  we\n",
              "0       0      0       0    0       0  ...       1       0    0       0   0\n",
              "1       0      0       0    1       0  ...       0       1    0       0   0\n",
              "2       1      0       0    0       1  ...       0       0    0       1   0\n",
              "3       0      1       1    0       0  ...       0       0    1       0   1\n",
              "\n",
              "[4 rows x 28 columns]"
            ]
          },
          "metadata": {
            "tags": []
          },
          "execution_count": 9
        }
      ]
    },
    {
      "cell_type": "code",
      "metadata": {
        "id": "Ik-gOfR8sVEB",
        "colab_type": "code",
        "colab": {
          "base_uri": "https://localhost:8080/",
          "height": 595
        },
        "outputId": "8cf1f702-3c70-40ac-f5f5-318dfcb5f9e8"
      },
      "source": [
        "word_list_y = vec_yes.get_feature_names()\n",
        "count_list_y = X_yes.toarray().sum(axis=0)\n",
        "freq_y = dict(zip(word_list_y, count_list_y))\n",
        "freq_y"
      ],
      "execution_count": 10,
      "outputs": [
        {
          "output_type": "execute_result",
          "data": {
            "text/plain": [
              "{'ai': 2,\n",
              " 'auto': 1,\n",
              " 'bridging': 1,\n",
              " 'can': 1,\n",
              " 'claim': 1,\n",
              " 'covid': 1,\n",
              " 'dbs': 1,\n",
              " 'deep': 1,\n",
              " 'deepmind': 1,\n",
              " 'definining': 1,\n",
              " 'for': 1,\n",
              " 'gaps': 1,\n",
              " 'google': 1,\n",
              " 'help': 1,\n",
              " 'improve': 1,\n",
              " 'introduce': 1,\n",
              " 'java': 1,\n",
              " 'learning': 7,\n",
              " 'library': 1,\n",
              " 'machine': 6,\n",
              " 'maps': 1,\n",
              " 'martech': 1,\n",
              " 'ml': 1,\n",
              " 'model': 1,\n",
              " 'open': 1,\n",
              " 'oracle': 1,\n",
              " 'related': 1,\n",
              " 'separate': 1,\n",
              " 'skill': 1,\n",
              " 'sources': 1,\n",
              " 'spin': 1,\n",
              " 'taking': 1,\n",
              " 'tool': 1,\n",
              " 'with': 1}"
            ]
          },
          "metadata": {
            "tags": []
          },
          "execution_count": 10
        }
      ]
    },
    {
      "cell_type": "code",
      "metadata": {
        "id": "Wl6HS21isVEG",
        "colab_type": "code",
        "colab": {
          "base_uri": "https://localhost:8080/",
          "height": 493
        },
        "outputId": "f11138ae-4fc6-4688-abec-5eeab97c4d65"
      },
      "source": [
        "word_list_n = vec_no.get_feature_names()\n",
        "count_list_n = X_no.toarray().sum(axis=0)\n",
        "freq_n = dict(zip(word_list_n, count_list_n))\n",
        "freq_n"
      ],
      "execution_count": 11,
      "outputs": [
        {
          "output_type": "execute_result",
          "data": {
            "text/plain": [
              "{'chance': 1,\n",
              " 'covid': 1,\n",
              " 'crisis': 1,\n",
              " 'day': 1,\n",
              " 'donald': 1,\n",
              " 'economy': 3,\n",
              " 'fed': 1,\n",
              " 'for': 1,\n",
              " 'get': 1,\n",
              " 'hispanic': 1,\n",
              " 'it': 1,\n",
              " 'must': 1,\n",
              " 'not': 1,\n",
              " 'off': 1,\n",
              " 'peel': 1,\n",
              " 'reason': 1,\n",
              " 'rehape': 1,\n",
              " 'save': 1,\n",
              " 'society': 1,\n",
              " 'the': 2,\n",
              " 'time': 1,\n",
              " 'to': 2,\n",
              " 'trump': 2,\n",
              " 'trying': 1,\n",
              " 'tuneup': 1,\n",
              " 'use': 1,\n",
              " 'voters': 1,\n",
              " 'we': 1}"
            ]
          },
          "metadata": {
            "tags": []
          },
          "execution_count": 11
        }
      ]
    },
    {
      "cell_type": "code",
      "metadata": {
        "id": "eLonf7uk3Ayg",
        "colab_type": "code",
        "colab": {
          "base_uri": "https://localhost:8080/",
          "height": 595
        },
        "outputId": "81874a1b-74d2-47d6-eb10-fd9023728a6c"
      },
      "source": [
        "prob_y = []\n",
        "for word, count in zip(word_list_y, count_list_y):\n",
        "    prob_y.append(count/len(word_list_y))\n",
        "dict(zip(word_list_y, prob_y))\n"
      ],
      "execution_count": 12,
      "outputs": [
        {
          "output_type": "execute_result",
          "data": {
            "text/plain": [
              "{'ai': 0.058823529411764705,\n",
              " 'auto': 0.029411764705882353,\n",
              " 'bridging': 0.029411764705882353,\n",
              " 'can': 0.029411764705882353,\n",
              " 'claim': 0.029411764705882353,\n",
              " 'covid': 0.029411764705882353,\n",
              " 'dbs': 0.029411764705882353,\n",
              " 'deep': 0.029411764705882353,\n",
              " 'deepmind': 0.029411764705882353,\n",
              " 'definining': 0.029411764705882353,\n",
              " 'for': 0.029411764705882353,\n",
              " 'gaps': 0.029411764705882353,\n",
              " 'google': 0.029411764705882353,\n",
              " 'help': 0.029411764705882353,\n",
              " 'improve': 0.029411764705882353,\n",
              " 'introduce': 0.029411764705882353,\n",
              " 'java': 0.029411764705882353,\n",
              " 'learning': 0.20588235294117646,\n",
              " 'library': 0.029411764705882353,\n",
              " 'machine': 0.17647058823529413,\n",
              " 'maps': 0.029411764705882353,\n",
              " 'martech': 0.029411764705882353,\n",
              " 'ml': 0.029411764705882353,\n",
              " 'model': 0.029411764705882353,\n",
              " 'open': 0.029411764705882353,\n",
              " 'oracle': 0.029411764705882353,\n",
              " 'related': 0.029411764705882353,\n",
              " 'separate': 0.029411764705882353,\n",
              " 'skill': 0.029411764705882353,\n",
              " 'sources': 0.029411764705882353,\n",
              " 'spin': 0.029411764705882353,\n",
              " 'taking': 0.029411764705882353,\n",
              " 'tool': 0.029411764705882353,\n",
              " 'with': 0.029411764705882353}"
            ]
          },
          "metadata": {
            "tags": []
          },
          "execution_count": 12
        }
      ]
    },
    {
      "cell_type": "code",
      "metadata": {
        "id": "Q1Rh8xXa3Tc1",
        "colab_type": "code",
        "colab": {
          "base_uri": "https://localhost:8080/",
          "height": 493
        },
        "outputId": "0d3e683b-6a1c-41d8-fd87-2b032de03114"
      },
      "source": [
        "prob_n = []\n",
        "for word, count in zip(word_list_n, count_list_n):\n",
        "    prob_n.append(count/len(word_list_n))\n",
        "dict(zip(word_list_n, prob_n))"
      ],
      "execution_count": 13,
      "outputs": [
        {
          "output_type": "execute_result",
          "data": {
            "text/plain": [
              "{'chance': 0.03571428571428571,\n",
              " 'covid': 0.03571428571428571,\n",
              " 'crisis': 0.03571428571428571,\n",
              " 'day': 0.03571428571428571,\n",
              " 'donald': 0.03571428571428571,\n",
              " 'economy': 0.10714285714285714,\n",
              " 'fed': 0.03571428571428571,\n",
              " 'for': 0.03571428571428571,\n",
              " 'get': 0.03571428571428571,\n",
              " 'hispanic': 0.03571428571428571,\n",
              " 'it': 0.03571428571428571,\n",
              " 'must': 0.03571428571428571,\n",
              " 'not': 0.03571428571428571,\n",
              " 'off': 0.03571428571428571,\n",
              " 'peel': 0.03571428571428571,\n",
              " 'reason': 0.03571428571428571,\n",
              " 'rehape': 0.03571428571428571,\n",
              " 'save': 0.03571428571428571,\n",
              " 'society': 0.03571428571428571,\n",
              " 'the': 0.07142857142857142,\n",
              " 'time': 0.03571428571428571,\n",
              " 'to': 0.07142857142857142,\n",
              " 'trump': 0.07142857142857142,\n",
              " 'trying': 0.03571428571428571,\n",
              " 'tuneup': 0.03571428571428571,\n",
              " 'use': 0.03571428571428571,\n",
              " 'voters': 0.03571428571428571,\n",
              " 'we': 0.03571428571428571}"
            ]
          },
          "metadata": {
            "tags": []
          },
          "execution_count": 13
        }
      ]
    },
    {
      "cell_type": "code",
      "metadata": {
        "id": "M6n5czys3Zs3",
        "colab_type": "code",
        "colab": {
          "base_uri": "https://localhost:8080/",
          "height": 34
        },
        "outputId": "5b615b2c-a53b-4703-ca37-c5bf178667d5"
      },
      "source": [
        "articles = [row['Title of Article'] for i, row in data.iterrows()]\n",
        "vec = CountVectorizer(binary=True)\n",
        "X_all = vec.fit_transform(articles)\n",
        "total_features = len(vec.get_feature_names())\n",
        "total_features\n"
      ],
      "execution_count": 14,
      "outputs": [
        {
          "output_type": "execute_result",
          "data": {
            "text/plain": [
              "60"
            ]
          },
          "metadata": {
            "tags": []
          },
          "execution_count": 14
        }
      ]
    },
    {
      "cell_type": "code",
      "metadata": {
        "id": "it_1pfJs3bq_",
        "colab_type": "code",
        "colab": {
          "base_uri": "https://localhost:8080/",
          "height": 85
        },
        "outputId": "37feae55-10ed-49aa-f69b-0c283238f76c"
      },
      "source": [
        "X_all.data"
      ],
      "execution_count": 15,
      "outputs": [
        {
          "output_type": "execute_result",
          "data": {
            "text/plain": [
              "array([1, 1, 1, 1, 1, 1, 1, 1, 1, 1, 1, 1, 1, 1, 1, 1, 1, 1, 1, 1, 1, 1,\n",
              "       1, 1, 1, 1, 1, 1, 1, 1, 1, 1, 1, 1, 1, 1, 1, 1, 1, 1, 1, 1, 1, 1,\n",
              "       1, 1, 1, 1, 1, 1, 1, 1, 1, 1, 1, 1, 1, 1, 1, 1, 1, 1, 1, 1, 1, 1,\n",
              "       1, 1, 1, 1, 1, 1, 1, 1, 1, 1, 1, 1])"
            ]
          },
          "metadata": {
            "tags": []
          },
          "execution_count": 15
        }
      ]
    },
    {
      "cell_type": "code",
      "metadata": {
        "id": "xyB4jF8l3eio",
        "colab_type": "code",
        "colab": {
          "base_uri": "https://localhost:8080/",
          "height": 34
        },
        "outputId": "cc6c410e-b433-4640-db95-2dbdf3513236"
      },
      "source": [
        "len(vec.get_feature_names())"
      ],
      "execution_count": 16,
      "outputs": [
        {
          "output_type": "execute_result",
          "data": {
            "text/plain": [
              "60"
            ]
          },
          "metadata": {
            "tags": []
          },
          "execution_count": 16
        }
      ]
    },
    {
      "cell_type": "code",
      "metadata": {
        "id": "0fv6-usJ3iMs",
        "colab_type": "code",
        "colab": {
          "base_uri": "https://localhost:8080/",
          "height": 51
        },
        "outputId": "aaf23bf4-730a-4902-a0fd-2d0b12aeda0b"
      },
      "source": [
        "total_count_features_y = count_list_y.sum(axis=0)\n",
        "total_count_features_n = count_list_n.sum(axis=0)\n",
        "print(total_count_features_y)\n",
        "print(total_count_features_n)"
      ],
      "execution_count": 17,
      "outputs": [
        {
          "output_type": "stream",
          "text": [
            "46\n",
            "33\n"
          ],
          "name": "stdout"
        }
      ]
    },
    {
      "cell_type": "code",
      "metadata": {
        "id": "oPjzilWH358w",
        "colab_type": "code",
        "colab": {}
      },
      "source": [
        "text_1 = 'system target ai adoption challenge machine learning builder'\n",
        "split_text_1 = text_1.split()\n",
        "text_2 = 'trump destroying economy though'\n",
        "split_text_2 = text_2.split()"
      ],
      "execution_count": 18,
      "outputs": []
    },
    {
      "cell_type": "code",
      "metadata": {
        "id": "PIFPucGL36TA",
        "colab_type": "code",
        "colab": {
          "base_uri": "https://localhost:8080/",
          "height": 289
        },
        "outputId": "388f9c58-e91e-4e8c-ae01-d10108787645"
      },
      "source": [
        "prob_text_1yes = []\n",
        "for word in split_text_1:\n",
        "    if word in freq_y.keys():\n",
        "        count = freq_y[word]\n",
        "    else:\n",
        "        count = 0\n",
        "    print(word, count, count+1, total_count_features_y, total_features, total_count_features_y+total_features)\n",
        "    prob_text_1yes.append((count+1)/(total_count_features_y+total_features))\n",
        "dict(zip(split_text_1, prob_text_1yes))"
      ],
      "execution_count": 19,
      "outputs": [
        {
          "output_type": "stream",
          "text": [
            "system 0 1 46 60 106\n",
            "target 0 1 46 60 106\n",
            "ai 2 3 46 60 106\n",
            "adoption 0 1 46 60 106\n",
            "challenge 0 1 46 60 106\n",
            "machine 6 7 46 60 106\n",
            "learning 7 8 46 60 106\n",
            "builder 0 1 46 60 106\n"
          ],
          "name": "stdout"
        },
        {
          "output_type": "execute_result",
          "data": {
            "text/plain": [
              "{'adoption': 0.009433962264150943,\n",
              " 'ai': 0.02830188679245283,\n",
              " 'builder': 0.009433962264150943,\n",
              " 'challenge': 0.009433962264150943,\n",
              " 'learning': 0.07547169811320754,\n",
              " 'machine': 0.0660377358490566,\n",
              " 'system': 0.009433962264150943,\n",
              " 'target': 0.009433962264150943}"
            ]
          },
          "metadata": {
            "tags": []
          },
          "execution_count": 19
        }
      ]
    },
    {
      "cell_type": "code",
      "metadata": {
        "id": "NgrAqbmi37IA",
        "colab_type": "code",
        "colab": {
          "base_uri": "https://localhost:8080/",
          "height": 289
        },
        "outputId": "91d3cccf-46e0-4223-9774-7562f19e9063"
      },
      "source": [
        "\n",
        "prob_text_1no = []\n",
        "for word in split_text_1:\n",
        "    if word in freq_n.keys():\n",
        "        count = freq_n[word]\n",
        "    else:\n",
        "        count = 0\n",
        "    print(word, count, count+1, total_count_features_n, total_features, total_count_features_y+total_features)\n",
        "    prob_text_1no.append((count+1)/(total_count_features_n+total_features))\n",
        "dict(zip(split_text_1, prob_text_1no))"
      ],
      "execution_count": 20,
      "outputs": [
        {
          "output_type": "stream",
          "text": [
            "system 0 1 33 60 106\n",
            "target 0 1 33 60 106\n",
            "ai 0 1 33 60 106\n",
            "adoption 0 1 33 60 106\n",
            "challenge 0 1 33 60 106\n",
            "machine 0 1 33 60 106\n",
            "learning 0 1 33 60 106\n",
            "builder 0 1 33 60 106\n"
          ],
          "name": "stdout"
        },
        {
          "output_type": "execute_result",
          "data": {
            "text/plain": [
              "{'adoption': 0.010752688172043012,\n",
              " 'ai': 0.010752688172043012,\n",
              " 'builder': 0.010752688172043012,\n",
              " 'challenge': 0.010752688172043012,\n",
              " 'learning': 0.010752688172043012,\n",
              " 'machine': 0.010752688172043012,\n",
              " 'system': 0.010752688172043012,\n",
              " 'target': 0.010752688172043012}"
            ]
          },
          "metadata": {
            "tags": []
          },
          "execution_count": 20
        }
      ]
    },
    {
      "cell_type": "code",
      "metadata": {
        "id": "vzjV8S5-39vi",
        "colab_type": "code",
        "colab": {
          "base_uri": "https://localhost:8080/",
          "height": 153
        },
        "outputId": "19fa24ff-0642-4a03-ed6b-dea252a84a5d"
      },
      "source": [
        "prob_text_2yes = []\n",
        "for word in split_text_2:\n",
        "    if word in freq_y.keys():\n",
        "        count = freq_y[word]\n",
        "    else:\n",
        "        count = 0\n",
        "    print(word, count, count+1, total_count_features_y, total_features, total_count_features_y+total_features)\n",
        "    prob_text_2yes.append((count+1)/(total_count_features_y+total_features))\n",
        "dict(zip(split_text_2, prob_text_2yes))"
      ],
      "execution_count": 21,
      "outputs": [
        {
          "output_type": "stream",
          "text": [
            "trump 0 1 46 60 106\n",
            "destroying 0 1 46 60 106\n",
            "economy 0 1 46 60 106\n",
            "though 0 1 46 60 106\n"
          ],
          "name": "stdout"
        },
        {
          "output_type": "execute_result",
          "data": {
            "text/plain": [
              "{'destroying': 0.009433962264150943,\n",
              " 'economy': 0.009433962264150943,\n",
              " 'though': 0.009433962264150943,\n",
              " 'trump': 0.009433962264150943}"
            ]
          },
          "metadata": {
            "tags": []
          },
          "execution_count": 21
        }
      ]
    },
    {
      "cell_type": "code",
      "metadata": {
        "id": "P45Yc5rl4Dil",
        "colab_type": "code",
        "colab": {
          "base_uri": "https://localhost:8080/",
          "height": 153
        },
        "outputId": "1fff9637-f03d-46d2-cb42-96dddf83f59a"
      },
      "source": [
        "prob_text_2no = []\n",
        "for word in split_text_2:\n",
        "    if word in freq_n.keys():\n",
        "        count = freq_n[word]\n",
        "    else:\n",
        "        count = 0\n",
        "    print(word, count, count+1, total_count_features_n, total_features, total_count_features_y+total_features)\n",
        "    prob_text_2no.append((count+1)/(total_count_features_n+total_features))\n",
        "dict(zip(split_text_2, prob_text_2no))"
      ],
      "execution_count": 22,
      "outputs": [
        {
          "output_type": "stream",
          "text": [
            "trump 2 3 33 60 106\n",
            "destroying 0 1 33 60 106\n",
            "economy 3 4 33 60 106\n",
            "though 0 1 33 60 106\n"
          ],
          "name": "stdout"
        },
        {
          "output_type": "execute_result",
          "data": {
            "text/plain": [
              "{'destroying': 0.010752688172043012,\n",
              " 'economy': 0.043010752688172046,\n",
              " 'though': 0.010752688172043012,\n",
              " 'trump': 0.03225806451612903}"
            ]
          },
          "metadata": {
            "tags": []
          },
          "execution_count": 22
        }
      ]
    },
    {
      "cell_type": "code",
      "metadata": {
        "id": "cLeL5IzN4KTy",
        "colab_type": "code",
        "colab": {
          "base_uri": "https://localhost:8080/",
          "height": 51
        },
        "outputId": "17af0f65-fcc2-4e09-9802-46134952f492"
      },
      "source": [
        "print(text_1)\n",
        "if np.prod(prob_text_1yes)>np.prod(prob_text_1no):\n",
        "  print('interesting = yes')\n",
        "else:\n",
        "  print('interesting = no')"
      ],
      "execution_count": 23,
      "outputs": [
        {
          "output_type": "stream",
          "text": [
            "system target ai adoption challenge machine learning builder\n",
            "interesting = yes\n"
          ],
          "name": "stdout"
        }
      ]
    },
    {
      "cell_type": "code",
      "metadata": {
        "id": "kn8nHm424LDo",
        "colab_type": "code",
        "colab": {
          "base_uri": "https://localhost:8080/",
          "height": 51
        },
        "outputId": "9788c63c-3fb9-412c-99e2-593d677a6caa"
      },
      "source": [
        "print(text_2)\n",
        "if np.prod(prob_text_2yes)>np.prod(prob_text_2no):\n",
        "  print('interesting = yes')\n",
        "else:\n",
        "  print('interesting = no')"
      ],
      "execution_count": 24,
      "outputs": [
        {
          "output_type": "stream",
          "text": [
            "trump destroying economy though\n",
            "interesting = no\n"
          ],
          "name": "stdout"
        }
      ]
    },
    {
      "cell_type": "code",
      "metadata": {
        "id": "ZipzjdYm4APm",
        "colab_type": "code",
        "colab": {}
      },
      "source": [
        ""
      ],
      "execution_count": 24,
      "outputs": []
    }
  ]
}